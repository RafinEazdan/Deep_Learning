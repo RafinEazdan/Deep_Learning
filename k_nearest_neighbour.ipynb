{
  "cells": [
    {
      "cell_type": "markdown",
      "metadata": {
        "colab_type": "text",
        "id": "view-in-github"
      },
      "source": [
        "<a href=\"https://colab.research.google.com/github/RafinEazdan/Deep_Learning/blob/main/k_nearest_neighbour.ipynb\" target=\"_parent\"><img src=\"https://colab.research.google.com/assets/colab-badge.svg\" alt=\"Open In Colab\"/></a>"
      ]
    },
    {
      "cell_type": "code",
      "execution_count": 54,
      "metadata": {
        "id": "VwLm0u-DkX8u"
      },
      "outputs": [],
      "source": [
        "import numpy as np\n",
        "import matplotlib.pyplot as plt\n",
        "import pandas as pd\n",
        "from sklearn.neighbors import KNeighborsClassifier\n",
        "import gdown\n",
        "from sklearn.model_selection import train_test_split\n",
        "from sklearn import preprocessing\n",
        "from sklearn.metrics import confusion_matrix\n",
        "from sklearn.metrics import accuracy_score"
      ]
    },
    {
      "cell_type": "code",
      "execution_count": 55,
      "metadata": {},
      "outputs": [
        {
          "name": "stderr",
          "output_type": "stream",
          "text": [
            "Downloading...\n",
            "From: https://drive.google.com/uc?id=1Q6hciKQss4JwC4Mt5BTqtLEjPILNRLFB\n",
            "To: e:\\GitHub_Desktop\\Deep_Learning\\credit_data.csv\n",
            "100%|██████████| 153k/153k [00:00<00:00, 661kB/s]\n"
          ]
        },
        {
          "data": {
            "text/plain": [
              "'credit_data.csv'"
            ]
          },
          "execution_count": 55,
          "metadata": {},
          "output_type": "execute_result"
        }
      ],
      "source": [
        "file_id = '1Q6hciKQss4JwC4Mt5BTqtLEjPILNRLFB'\n",
        "url = f'https://drive.google.com/uc?id={file_id}'\n",
        "gdown.download(url, 'credit_data.csv', quiet=False)"
      ]
    },
    {
      "cell_type": "code",
      "execution_count": 56,
      "metadata": {},
      "outputs": [],
      "source": [
        "dataset = pd.read_csv(\"credit_data.csv\")"
      ]
    },
    {
      "cell_type": "code",
      "execution_count": 57,
      "metadata": {},
      "outputs": [],
      "source": [
        "X = dataset[[\"income\", \"age\",\"loan\"]]\n",
        "y = dataset.default"
      ]
    },
    {
      "cell_type": "code",
      "execution_count": 58,
      "metadata": {},
      "outputs": [],
      "source": [
        "X = preprocessing.MinMaxScaler().fit_transform(X)"
      ]
    },
    {
      "cell_type": "code",
      "execution_count": 59,
      "metadata": {},
      "outputs": [],
      "source": [
        "X_train, X_test, y_train, y_test = train_test_split(X,y, test_size=0.2)"
      ]
    },
    {
      "cell_type": "code",
      "execution_count": 62,
      "metadata": {},
      "outputs": [
        {
          "name": "stdout",
          "output_type": "stream",
          "text": [
            "Optimal K with cross validation is: 32\n"
          ]
        }
      ],
      "source": [
        "from sklearn.model_selection import cross_val_score\n",
        "cross_valid_score = []\n",
        "\n",
        "for k in range (1,100):\n",
        "    knn = KNeighborsClassifier(n_neighbors=k)\n",
        "    scores = cross_val_score(knn,X,y,cv=10, scoring='accuracy')\n",
        "    cross_valid_score.append(scores.mean())\n",
        "\n",
        "k = np.argmax(cross_valid_score)\n",
        "\n",
        "print(f\"Optimal K with cross validation is: {k}\")"
      ]
    },
    {
      "cell_type": "code",
      "execution_count": 63,
      "metadata": {},
      "outputs": [],
      "source": [
        "model  = KNeighborsClassifier(n_neighbors=20)\n",
        "fit_model = model.fit(X_train,y_train)\n",
        "predictions = fit_model.predict(X_test)"
      ]
    },
    {
      "cell_type": "code",
      "execution_count": 64,
      "metadata": {},
      "outputs": [
        {
          "name": "stdout",
          "output_type": "stream",
          "text": [
            "[[340   0]\n",
            " [  9  51]]\n",
            "0.9775\n"
          ]
        }
      ],
      "source": [
        "print(confusion_matrix(y_test, predictions))\n",
        "print(accuracy_score(y_test, predictions))"
      ]
    }
  ],
  "metadata": {
    "colab": {
      "authorship_tag": "ABX9TyNXcgwBYMzQ03vHoZVV8Ck5",
      "include_colab_link": true,
      "provenance": []
    },
    "kernelspec": {
      "display_name": "py3131",
      "language": "python",
      "name": "python3"
    },
    "language_info": {
      "codemirror_mode": {
        "name": "ipython",
        "version": 3
      },
      "file_extension": ".py",
      "mimetype": "text/x-python",
      "name": "python",
      "nbconvert_exporter": "python",
      "pygments_lexer": "ipython3",
      "version": "3.13.1"
    }
  },
  "nbformat": 4,
  "nbformat_minor": 0
}
