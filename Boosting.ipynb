{
  "nbformat": 4,
  "nbformat_minor": 0,
  "metadata": {
    "colab": {
      "provenance": [],
      "authorship_tag": "ABX9TyP9LQDFMCSOfJOoHYUbQ3dS",
      "include_colab_link": true
    },
    "kernelspec": {
      "name": "python3",
      "display_name": "Python 3"
    },
    "language_info": {
      "name": "python"
    }
  },
  "cells": [
    {
      "cell_type": "markdown",
      "metadata": {
        "id": "view-in-github",
        "colab_type": "text"
      },
      "source": [
        "<a href=\"https://colab.research.google.com/github/RafinEazdan/Deep_Learning/blob/main/Boosting.ipynb\" target=\"_parent\"><img src=\"https://colab.research.google.com/assets/colab-badge.svg\" alt=\"Open In Colab\"/></a>"
      ]
    },
    {
      "cell_type": "code",
      "execution_count": 3,
      "metadata": {
        "colab": {
          "base_uri": "https://localhost:8080/"
        },
        "id": "1Sfr0woyjUJe",
        "outputId": "7869a4a0-c92e-47f3-a09d-0935eae2e46e"
      },
      "outputs": [
        {
          "output_type": "stream",
          "name": "stderr",
          "text": [
            "<ipython-input-3-dd84fe7de3bd>:10: UserWarning: Pandas doesn't allow columns to be created via a new attribute name - see https://pandas.pydata.org/pandas-docs/stable/indexing.html#attribute-access\n",
            "  data.features = data[[\"SepalLength\",\"SepalWidth\",\"PetalLength\",\"PetalWidth\"]]\n",
            "<ipython-input-3-dd84fe7de3bd>:11: UserWarning: Pandas doesn't allow columns to be created via a new attribute name - see https://pandas.pydata.org/pandas-docs/stable/indexing.html#attribute-access\n",
            "  data.targets = data.Class\n"
          ]
        },
        {
          "output_type": "stream",
          "name": "stdout",
          "text": [
            "[[11  0  0]\n",
            " [ 0  6  1]\n",
            " [ 0  1 11]]\n",
            "0.9333333333333333\n"
          ]
        }
      ],
      "source": [
        "import pandas as pd\n",
        "from sklearn.ensemble import AdaBoostClassifier\n",
        "from sklearn.metrics import confusion_matrix\n",
        "from sklearn.metrics import accuracy_score\n",
        "from sklearn.model_selection import train_test_split\n",
        "\n",
        "data = pd.read_csv(\"iris_data.csv\")\n",
        "\n",
        "#print(data)\n",
        "data.features = data[[\"SepalLength\",\"SepalWidth\",\"PetalLength\",\"PetalWidth\"]]\n",
        "data.targets = data.Class\n",
        "\n",
        "feature_train, feature_test, target_train, target_test = train_test_split(data.features, data.targets, test_size=.2)\n",
        "\n",
        "model = AdaBoostClassifier(n_estimators=100,learning_rate=1,random_state=1)\n",
        "model.fitted = model.fit(feature_train, target_train)\n",
        "model.predictions = model.fitted.predict(feature_test)\n",
        "\n",
        "print(confusion_matrix(target_test, model.predictions))\n",
        "print(accuracy_score(target_test, model.predictions))\n"
      ]
    },
    {
      "cell_type": "code",
      "source": [
        "import pandas as pd\n",
        "from sklearn.ensemble import AdaBoostClassifier\n",
        "from sklearn.model_selection import GridSearchCV\n",
        "from sklearn.model_selection import train_test_split\n",
        "from sklearn.metrics import confusion_matrix\n",
        "from sklearn.metrics import accuracy_score\n",
        "\n",
        "def isTasty(quality):\n",
        "    if quality >= 7:\n",
        "        return 1\n",
        "    else:\n",
        "        return 0\n",
        "\n",
        "data = pd.read_csv(\"wine.csv\", sep=\";\")\n",
        "\n",
        "features = data[[\"fixed acidity\", \"volatile acidity\", \"citric acid\", \"residual sugar\",\"chlorides\", \"free sulfur dioxide\", \"total sulfur dioxide\", \"density\", \"pH\", \"sulphates\", \"alcohol\"]]\n",
        "data['tasty'] = data[\"quality\"].apply(isTasty)\n",
        "targets = data['tasty']\n",
        "\n",
        "feature_train, feature_test, target_train, target_test = train_test_split(features, targets, test_size=.2)\n",
        "\n",
        "param_dist = {\n",
        " 'n_estimators': [50,100,200],\n",
        " 'learning_rate' : [0.01,0.05,0.1,0.3,1],\n",
        "}\n",
        "\n",
        "grid_search = GridSearchCV(estimator=AdaBoostClassifier(), param_grid=param_dist, cv=10)\n",
        "grid_search.fit(feature_train, target_train)\n",
        "\n",
        "preds = grid_search.predict(feature_test)\n",
        "\n",
        "print(confusion_matrix(target_test, preds))\n",
        "print(accuracy_score(target_test, preds))"
      ],
      "metadata": {
        "colab": {
          "base_uri": "https://localhost:8080/"
        },
        "id": "AaS6nQBQIjWC",
        "outputId": "23459e72-8a3a-4a57-9580-d7d0a84358b1"
      },
      "execution_count": 5,
      "outputs": [
        {
          "output_type": "stream",
          "name": "stdout",
          "text": [
            "[[761  16]\n",
            " [172  31]]\n",
            "0.8081632653061225\n"
          ]
        }
      ]
    }
  ]
}