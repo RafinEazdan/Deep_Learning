{
  "cells": [
    {
      "cell_type": "markdown",
      "metadata": {
        "id": "view-in-github",
        "colab_type": "text"
      },
      "source": [
        "<a href=\"https://colab.research.google.com/github/RafinEazdan/Deep_Learning/blob/main/TextClass.ipynb\" target=\"_parent\"><img src=\"https://colab.research.google.com/assets/colab-badge.svg\" alt=\"Open In Colab\"/></a>"
      ]
    },
    {
      "cell_type": "code",
      "execution_count": 1,
      "metadata": {
        "id": "p8sKW9efIYSz"
      },
      "outputs": [],
      "source": [
        "from sklearn.datasets import fetch_20newsgroups\n",
        "from sklearn.feature_extraction.text import CountVectorizer, TfidfTransformer\n",
        "from sklearn.naive_bayes import MultinomialNB"
      ]
    },
    {
      "cell_type": "code",
      "execution_count": 2,
      "metadata": {
        "id": "fUYQDiGMMX8-"
      },
      "outputs": [],
      "source": [
        "categories = ['alt.atheism','soc.religion.christian','comp.graphics','sci.med']"
      ]
    },
    {
      "cell_type": "code",
      "execution_count": 3,
      "metadata": {
        "id": "1RaGsF5NMX8-"
      },
      "outputs": [],
      "source": [
        "trainingData = fetch_20newsgroups(subset='train', categories=categories, shuffle=True)"
      ]
    },
    {
      "cell_type": "code",
      "execution_count": 5,
      "metadata": {
        "id": "oUjj9d21MX8_",
        "outputId": "ca87134c-dc69-4e4e-a1b7-072d1b58c02c",
        "colab": {
          "base_uri": "https://localhost:8080/"
        }
      },
      "outputs": [
        {
          "output_type": "stream",
          "name": "stdout",
          "text": [
            "From: ani@ms.uky.edu (Aniruddha B. Deglurkar)\n",
            "Subject: help: Splitting a trimming region along a mesh \n",
            "Organization: University Of Kentucky, Dept. of Math Sciences\n",
            "Lines: 28\n",
            "\n",
            "\n",
            "\n",
            "\tHi,\n",
            "\n",
            "\tI have a problem, I hope some of the 'gurus' can help me solve.\n",
            "Target is: comp.graphics\n"
          ]
        }
      ],
      "source": [
        "print (\"\\n\".join(trainingData.data[1].split(\"\\n\")[:10]))\n",
        "print (\"Target is:\", trainingData.target_names[trainingData.target[1]])"
      ]
    },
    {
      "cell_type": "code",
      "source": [
        "countVector = CountVectorizer()\n",
        "xTrainCounts = countVector.fit_transform(trainingData.data)"
      ],
      "metadata": {
        "id": "9Ey6X8_ONb0x"
      },
      "execution_count": 6,
      "outputs": []
    },
    {
      "cell_type": "code",
      "source": [
        "tfidTransformer = TfidfTransformer()\n",
        "xTrainTfidf = tfidTransformer.fit_transform(xTrainCounts)\n",
        "\n",
        "model = MultinomialNB().fit(xTrainCounts, trainingData.target)\n",
        "\n"
      ],
      "metadata": {
        "id": "gcSstfWFOXjl"
      },
      "execution_count": 7,
      "outputs": []
    },
    {
      "cell_type": "code",
      "source": [
        "new = ['This has nothing to do with church or religion', 'Software engineering is getting hotter and hotter nowadays']\n",
        "xNewCounts = countVector.transform(new)\n",
        "xNewTfidf = tfidTransformer.transform(xNewCounts)\n",
        "\n",
        "predicted = model.predict(xNewTfidf)"
      ],
      "metadata": {
        "id": "vUMKXQI6OyAg"
      },
      "execution_count": 9,
      "outputs": []
    },
    {
      "cell_type": "code",
      "source": [
        "for doc, category in zip(new,predicted):\n",
        "\tprint('%r --------> %s' % (doc, trainingData.target_names[category]))"
      ],
      "metadata": {
        "id": "iJC3TQ4kO3Cj",
        "outputId": "2b3ae501-965b-4818-8554-4c886724b08a",
        "colab": {
          "base_uri": "https://localhost:8080/"
        }
      },
      "execution_count": 10,
      "outputs": [
        {
          "output_type": "stream",
          "name": "stdout",
          "text": [
            "'This has nothing to do with church or religion' --------> soc.religion.christian\n",
            "'Software engineering is getting hotter and hotter nowadays' --------> comp.graphics\n"
          ]
        }
      ]
    }
  ],
  "metadata": {
    "colab": {
      "provenance": [],
      "include_colab_link": true
    },
    "kernelspec": {
      "display_name": "py3131",
      "language": "python",
      "name": "python3"
    },
    "language_info": {
      "codemirror_mode": {
        "name": "ipython",
        "version": 3
      },
      "file_extension": ".py",
      "mimetype": "text/x-python",
      "name": "python",
      "nbconvert_exporter": "python",
      "pygments_lexer": "ipython3",
      "version": "3.13.1"
    }
  },
  "nbformat": 4,
  "nbformat_minor": 0
}