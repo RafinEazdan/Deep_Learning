{
  "cells": [
    {
      "cell_type": "markdown",
      "metadata": {
        "colab_type": "text",
        "id": "view-in-github"
      },
      "source": [
        "<a href=\"https://colab.research.google.com/github/RafinEazdan/Deep_Learning/blob/main/TextClass.ipynb\" target=\"_parent\"><img src=\"https://colab.research.google.com/assets/colab-badge.svg\" alt=\"Open In Colab\"/></a>"
      ]
    },
    {
      "cell_type": "code",
      "execution_count": 5,
      "metadata": {
        "id": "p8sKW9efIYSz"
      },
      "outputs": [],
      "source": [
        "from sklearn.datasets import fetch_20newsgroups\n",
        "from sklearn.feature_extraction.text import CountVectorizer, TfidfTransformer\n",
        "from sklearn.naive_bayes import MultinomialNB"
      ]
    },
    {
      "cell_type": "code",
      "execution_count": 6,
      "metadata": {},
      "outputs": [],
      "source": [
        "categories = ['alt.atheism','soc.religion.christian','comp.graphics','sci.med']"
      ]
    },
    {
      "cell_type": "code",
      "execution_count": 7,
      "metadata": {},
      "outputs": [],
      "source": [
        "trainingData = fetch_20newsgroups(subset='train', categories=categories, shuffle=True)"
      ]
    },
    {
      "cell_type": "code",
      "execution_count": 8,
      "metadata": {},
      "outputs": [
        {
          "name": "stdout",
          "output_type": "stream",
          "text": [
            "From: ani@ms.uky.edu (Aniruddha B. Deglurkar)\n",
            "Subject: help: Splitting a trimming region along a mesh \n",
            "Organization: University Of Kentucky, Dept. of Math Sciences\n",
            "Lines: 28\n",
            "\n",
            "\n",
            "\n",
            "\tHi,\n",
            "\n",
            "\tI have a problem, I hope some of the 'gurus' can help me solve.\n",
            "Target is: comp.graphics\n"
          ]
        }
      ],
      "source": [
        "print (\"\\n\".join(trainingData.data[1].split(\"\\n\")[:10]))\n",
        "print (\"Target is:\", trainingData.target_names[trainingData.target[1]])"
      ]
    },
    {
      "cell_type": "code",
      "execution_count": 9,
      "metadata": {},
      "outputs": [],
      "source": [
        "countVector = CountVectorizer()\n",
        "xTrainCounts = countVector.fit_transform(trainingData.data)"
      ]
    },
    {
      "cell_type": "code",
      "execution_count": 10,
      "metadata": {},
      "outputs": [],
      "source": [
        "tfidTransformer = TfidfTransformer()\n",
        "xTrainTfidf = tfidTransformer.fit_transform(xTrainCounts)\n",
        "\n",
        "model = MultinomialNB().fit(xTrainCounts, trainingData.target)"
      ]
    },
    {
      "cell_type": "code",
      "execution_count": 11,
      "metadata": {},
      "outputs": [],
      "source": [
        "new = ['This has nothing to do with church or religion', 'Software engineering is getting hotter and hotter nowadays']\n",
        "xNewCounts = countVector.transform(new)\n",
        "xNewTfidf = tfidTransformer.transform(xNewCounts)\n",
        "\n",
        "predicted = model.predict(xNewTfidf)"
      ]
    },
    {
      "cell_type": "code",
      "execution_count": 12,
      "metadata": {},
      "outputs": [
        {
          "name": "stdout",
          "output_type": "stream",
          "text": [
            "'This has nothing to do with church or religion' --------> soc.religion.christian\n",
            "'Software engineering is getting hotter and hotter nowadays' --------> comp.graphics\n"
          ]
        }
      ],
      "source": [
        "for doc, category in zip(new,predicted):\n",
        "\tprint('%r --------> %s' % (doc, trainingData.target_names[category]))"
      ]
    }
  ],
  "metadata": {
    "colab": {
      "authorship_tag": "ABX9TyNXcgwBYMzQ03vHoZVV8Ck5",
      "include_colab_link": true,
      "provenance": []
    },
    "kernelspec": {
      "display_name": "py3131",
      "language": "python",
      "name": "python3"
    },
    "language_info": {
      "codemirror_mode": {
        "name": "ipython",
        "version": 3
      },
      "file_extension": ".py",
      "mimetype": "text/x-python",
      "name": "python",
      "nbconvert_exporter": "python",
      "pygments_lexer": "ipython3",
      "version": "3.13.1"
    }
  },
  "nbformat": 4,
  "nbformat_minor": 0
}
