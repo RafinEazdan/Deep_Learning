{
  "cells": [
    {
      "cell_type": "markdown",
      "metadata": {
        "colab_type": "text",
        "id": "view-in-github"
      },
      "source": [
        "<a href=\"https://colab.research.google.com/github/RafinEazdan/Deep_Learning/blob/main/Logistic_Regression.ipynb\" target=\"_parent\"><img src=\"https://colab.research.google.com/assets/colab-badge.svg\" alt=\"Open In Colab\"/></a>"
      ]
    },
    {
      "cell_type": "code",
      "execution_count": 22,
      "metadata": {
        "id": "d1OH4OisPaE0"
      },
      "outputs": [],
      "source": [
        "import numpy as np\n",
        "import matplotlib.pyplot as plt\n",
        "import pandas as pd\n",
        "from sklearn.linear_model import LogisticRegression\n",
        "import gdown\n",
        "from sklearn.model_selection import train_test_split\n",
        "from sklearn.metrics import confusion_matrix\n",
        "from sklearn.metrics import accuracy_score"
      ]
    },
    {
      "cell_type": "code",
      "execution_count": 9,
      "metadata": {},
      "outputs": [
        {
          "name": "stderr",
          "output_type": "stream",
          "text": [
            "Downloading...\n",
            "From: https://drive.google.com/uc?id=1Q6hciKQss4JwC4Mt5BTqtLEjPILNRLFB\n",
            "To: e:\\GitHub_Desktop\\Deep_Learning\\dataset.csv\n",
            "100%|██████████| 153k/153k [00:00<00:00, 386kB/s]\n"
          ]
        },
        {
          "data": {
            "text/plain": [
              "'dataset.csv'"
            ]
          },
          "execution_count": 9,
          "metadata": {},
          "output_type": "execute_result"
        }
      ],
      "source": [
        "file_id = '1Q6hciKQss4JwC4Mt5BTqtLEjPILNRLFB'\n",
        "url = f'https://drive.google.com/uc?id={file_id}'\n",
        "gdown.download(url, 'dataset.csv', quiet=False)"
      ]
    },
    {
      "cell_type": "code",
      "execution_count": 12,
      "metadata": {},
      "outputs": [],
      "source": [
        "dataset = pd.read_csv('dataset.csv')"
      ]
    },
    {
      "cell_type": "code",
      "execution_count": 13,
      "metadata": {},
      "outputs": [
        {
          "name": "stdout",
          "output_type": "stream",
          "text": [
            "   clientid        income        age         loan       LTI  default\n",
            "0         1  66155.925095  59.017015  8106.532131  0.122537        0\n",
            "1         2  34415.153966  48.117153  6564.745018  0.190752        0\n",
            "2         3  57317.170063  63.108049  8020.953296  0.139940        0\n",
            "3         4  42709.534201  45.751972  6103.642260  0.142911        0\n",
            "4         5  66952.688845  18.584336  8770.099235  0.130989        1\n",
            "          clientid        income  ...          LTI      default\n",
            "count  2000.000000   2000.000000  ...  2000.000000  2000.000000\n",
            "mean   1000.500000  45331.600018  ...     0.098403     0.141500\n",
            "std     577.494589  14326.327119  ...     0.057620     0.348624\n",
            "min       1.000000  20014.489470  ...     0.000049     0.000000\n",
            "25%     500.750000  32796.459717  ...     0.047903     0.000000\n",
            "50%    1000.500000  45789.117313  ...     0.099437     0.000000\n",
            "75%    1500.250000  57791.281668  ...     0.147585     0.000000\n",
            "max    2000.000000  69995.685578  ...     0.199938     1.000000\n",
            "\n",
            "[8 rows x 6 columns]\n",
            "          clientid    income       age      loan       LTI   default\n",
            "clientid  1.000000  0.039280 -0.030341  0.018931  0.002538 -0.020145\n",
            "income    0.039280  1.000000 -0.034984  0.441117 -0.019862  0.002284\n",
            "age      -0.030341 -0.034984  1.000000  0.006561  0.021588 -0.444765\n",
            "loan      0.018931  0.441117  0.006561  1.000000  0.847495  0.377160\n",
            "LTI       0.002538 -0.019862  0.021588  0.847495  1.000000  0.433261\n",
            "default  -0.020145  0.002284 -0.444765  0.377160  0.433261  1.000000\n"
          ]
        }
      ],
      "source": [
        "print(dataset.head())\n",
        "print(dataset.describe())\n",
        "print(dataset.corr())"
      ]
    },
    {
      "cell_type": "code",
      "execution_count": 19,
      "metadata": {},
      "outputs": [],
      "source": [
        "X = dataset[[\"income\",\"age\",\"loan\"]]\n",
        "y = dataset.default"
      ]
    },
    {
      "cell_type": "code",
      "execution_count": 20,
      "metadata": {},
      "outputs": [],
      "source": [
        "X_train, X_test, y_train, y_test = train_test_split(X,y,test_size=0.2)"
      ]
    },
    {
      "cell_type": "code",
      "execution_count": 21,
      "metadata": {},
      "outputs": [],
      "source": [
        "model = LogisticRegression()\n",
        "model.fit = model.fit(X_train, y_train)\n",
        "predictions = model.fit.predict(X_test)"
      ]
    },
    {
      "cell_type": "code",
      "execution_count": 24,
      "metadata": {},
      "outputs": [
        {
          "name": "stdout",
          "output_type": "stream",
          "text": [
            "[[343   8]\n",
            " [ 13  36]]\n",
            "0.9475\n"
          ]
        }
      ],
      "source": [
        "print(confusion_matrix(y_test, predictions))\n",
        "print(accuracy_score(y_test, predictions))"
      ]
    },
    {
      "cell_type": "code",
      "execution_count": null,
      "metadata": {},
      "outputs": [],
      "source": []
    }
  ],
  "metadata": {
    "colab": {
      "authorship_tag": "ABX9TyOov1VBhk8693cydv/+0GMC",
      "include_colab_link": true,
      "provenance": []
    },
    "kernelspec": {
      "display_name": "py3131",
      "language": "python",
      "name": "python3"
    },
    "language_info": {
      "codemirror_mode": {
        "name": "ipython",
        "version": 3
      },
      "file_extension": ".py",
      "mimetype": "text/x-python",
      "name": "python",
      "nbconvert_exporter": "python",
      "pygments_lexer": "ipython3",
      "version": "3.13.1"
    }
  },
  "nbformat": 4,
  "nbformat_minor": 0
}
