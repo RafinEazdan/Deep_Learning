{
  "nbformat": 4,
  "nbformat_minor": 0,
  "metadata": {
    "colab": {
      "provenance": [],
      "authorship_tag": "ABX9TyNl+0sLnknETFncXsA97Dk2",
      "include_colab_link": true
    },
    "kernelspec": {
      "name": "python3",
      "display_name": "Python 3"
    },
    "language_info": {
      "name": "python"
    }
  },
  "cells": [
    {
      "cell_type": "markdown",
      "metadata": {
        "id": "view-in-github",
        "colab_type": "text"
      },
      "source": [
        "<a href=\"https://colab.research.google.com/github/RafinEazdan/Deep_Learning/blob/main/RandomForest.ipynb\" target=\"_parent\"><img src=\"https://colab.research.google.com/assets/colab-badge.svg\" alt=\"Open In Colab\"/></a>"
      ]
    },
    {
      "cell_type": "code",
      "execution_count": 2,
      "metadata": {
        "colab": {
          "base_uri": "https://localhost:8080/"
        },
        "id": "w-KnkJkPjB-_",
        "outputId": "8b1ed99c-747f-4498-80f0-26bcccedd0d1"
      },
      "outputs": [
        {
          "output_type": "stream",
          "name": "stdout",
          "text": [
            "[[11  0  0]\n",
            " [ 0  9  1]\n",
            " [ 0  0  9]]\n",
            "0.9666666666666667\n"
          ]
        }
      ],
      "source": [
        "from sklearn.ensemble import RandomForestClassifier\n",
        "from sklearn.model_selection import train_test_split\n",
        "from sklearn.metrics import confusion_matrix\n",
        "from sklearn.metrics import accuracy_score\n",
        "from sklearn import datasets\n",
        "\n",
        "dataset = datasets.load_iris()\n",
        "\n",
        "features = dataset.data\n",
        "targets = dataset.target\n",
        "\n",
        "feature_train, feature_test, target_train, target_test = train_test_split(features, targets, test_size=.2)\n",
        "\n",
        "model = RandomForestClassifier(n_estimators=1000, max_features='sqrt')\n",
        "fitted_model = model.fit(feature_train, target_train)\n",
        "predictions = fitted_model.predict(feature_test)\n",
        "\n",
        "print(confusion_matrix(target_test, predictions))\n",
        "print(accuracy_score(target_test, predictions))"
      ]
    },
    {
      "cell_type": "code",
      "source": [],
      "metadata": {
        "id": "B-HUwnje5_GD"
      },
      "execution_count": null,
      "outputs": []
    }
  ]
}